{
 "cells": [
  {
   "cell_type": "code",
   "execution_count": 27,
   "metadata": {},
   "outputs": [],
   "source": [
    "%matplotlib inline \n",
    "import numpy as np\n",
    "import matplotlib.pyplot as plt\n",
    "import sympy as sp"
   ]
  },
  {
   "cell_type": "markdown",
   "metadata": {},
   "source": [
    "定義一個矩陣A做線性轉換"
   ]
  },
  {
   "cell_type": "code",
   "execution_count": 28,
   "metadata": {},
   "outputs": [],
   "source": [
    "A=sp.Matrix([[1,2,3,4,5,6],\n",
    "            [6,5,4,3,2,1],\n",
    "            [2,3,4,5,6,7],\n",
    "            [3,4,5,6,7,8],\n",
    "            [4,5,6,7,8,9],\n",
    "            [6,7,8,9,1,2],\n",
    "            [8,9,1,2,3,4]])"
   ]
  },
  {
   "cell_type": "code",
   "execution_count": 29,
   "metadata": {},
   "outputs": [
    {
     "data": {
      "text/latex": [
       "$\\displaystyle \\left[\\begin{matrix}1 & 2 & 3 & 4 & 5 & 6\\\\6 & 5 & 4 & 3 & 2 & 1\\\\2 & 3 & 4 & 5 & 6 & 7\\\\3 & 4 & 5 & 6 & 7 & 8\\\\4 & 5 & 6 & 7 & 8 & 9\\\\6 & 7 & 8 & 9 & 1 & 2\\\\8 & 9 & 1 & 2 & 3 & 4\\end{matrix}\\right]$"
      ],
      "text/plain": [
       "Matrix([\n",
       "[1, 2, 3, 4, 5, 6],\n",
       "[6, 5, 4, 3, 2, 1],\n",
       "[2, 3, 4, 5, 6, 7],\n",
       "[3, 4, 5, 6, 7, 8],\n",
       "[4, 5, 6, 7, 8, 9],\n",
       "[6, 7, 8, 9, 1, 2],\n",
       "[8, 9, 1, 2, 3, 4]])"
      ]
     },
     "execution_count": 29,
     "metadata": {},
     "output_type": "execute_result"
    }
   ],
   "source": [
    "A"
   ]
  },
  {
   "cell_type": "markdown",
   "metadata": {},
   "source": [
    "定義一個R^6的基底B"
   ]
  },
  {
   "cell_type": "code",
   "execution_count": 30,
   "metadata": {},
   "outputs": [],
   "source": [
    "B=sp.Matrix([[1,0,0,0,1,0],\n",
    "            [0,1,2,0,1,0],\n",
    "            [0,0,1,0,3,0],\n",
    "            [0,3,0,1,1,0],\n",
    "            [0,5,9,0,1,0],\n",
    "            [0,10,0,0,0,1]])"
   ]
  },
  {
   "cell_type": "code",
   "execution_count": 31,
   "metadata": {},
   "outputs": [
    {
     "data": {
      "text/latex": [
       "$\\displaystyle \\left[\\begin{matrix}1 & 0 & 0 & 0 & 1 & 0\\\\0 & 1 & 2 & 0 & 1 & 0\\\\0 & 0 & 1 & 0 & 3 & 0\\\\0 & 3 & 0 & 1 & 1 & 0\\\\0 & 5 & 9 & 0 & 1 & 0\\\\0 & 10 & 0 & 0 & 0 & 1\\end{matrix}\\right]$"
      ],
      "text/plain": [
       "Matrix([\n",
       "[1,  0, 0, 0, 1, 0],\n",
       "[0,  1, 2, 0, 1, 0],\n",
       "[0,  0, 1, 0, 3, 0],\n",
       "[0,  3, 0, 1, 1, 0],\n",
       "[0,  5, 9, 0, 1, 0],\n",
       "[0, 10, 0, 0, 0, 1]])"
      ]
     },
     "execution_count": 31,
     "metadata": {},
     "output_type": "execute_result"
    }
   ],
   "source": [
    "B"
   ]
  },
  {
   "cell_type": "markdown",
   "metadata": {},
   "source": [
    "定義一個R^7的基底C"
   ]
  },
  {
   "cell_type": "code",
   "execution_count": 32,
   "metadata": {},
   "outputs": [],
   "source": [
    "C=sp.Matrix([[1,0,0,0,23,0,0],\n",
    "           [0,1,0,0,8,0,4],\n",
    "           [0,0,1,0,2,0,5],\n",
    "           [0,5,0,1,0,0,0],\n",
    "            [0,0,0,0,1,0,0],\n",
    "            [9,0,0,10,0,1,0],\n",
    "            [0,0,0,0,0,0,1]])"
   ]
  },
  {
   "cell_type": "code",
   "execution_count": 33,
   "metadata": {
    "scrolled": true
   },
   "outputs": [
    {
     "data": {
      "text/latex": [
       "$\\displaystyle \\left[\\begin{matrix}1 & 0 & 0 & 0 & 23 & 0 & 0\\\\0 & 1 & 0 & 0 & 8 & 0 & 4\\\\0 & 0 & 1 & 0 & 2 & 0 & 5\\\\0 & 5 & 0 & 1 & 0 & 0 & 0\\\\0 & 0 & 0 & 0 & 1 & 0 & 0\\\\9 & 0 & 0 & 10 & 0 & 1 & 0\\\\0 & 0 & 0 & 0 & 0 & 0 & 1\\end{matrix}\\right]$"
      ],
      "text/plain": [
       "Matrix([\n",
       "[1, 0, 0,  0, 23, 0, 0],\n",
       "[0, 1, 0,  0,  8, 0, 4],\n",
       "[0, 0, 1,  0,  2, 0, 5],\n",
       "[0, 5, 0,  1,  0, 0, 0],\n",
       "[0, 0, 0,  0,  1, 0, 0],\n",
       "[9, 0, 0, 10,  0, 1, 0],\n",
       "[0, 0, 0,  0,  0, 0, 1]])"
      ]
     },
     "execution_count": 33,
     "metadata": {},
     "output_type": "execute_result"
    }
   ],
   "source": [
    "C"
   ]
  },
  {
   "cell_type": "code",
   "execution_count": 34,
   "metadata": {},
   "outputs": [
    {
     "data": {
      "text/latex": [
       "$\\displaystyle \\left[\\begin{matrix}1 & 0 & 0 & 0 & -23 & 0 & 0\\\\0 & 1 & 0 & 0 & -8 & 0 & -4\\\\0 & 0 & 1 & 0 & -2 & 0 & -5\\\\0 & -5 & 0 & 1 & 40 & 0 & 20\\\\0 & 0 & 0 & 0 & 1 & 0 & 0\\\\-9 & 50 & 0 & -10 & -193 & 1 & -200\\\\0 & 0 & 0 & 0 & 0 & 0 & 1\\end{matrix}\\right]$"
      ],
      "text/plain": [
       "Matrix([\n",
       "[ 1,  0, 0,   0,  -23, 0,    0],\n",
       "[ 0,  1, 0,   0,   -8, 0,   -4],\n",
       "[ 0,  0, 1,   0,   -2, 0,   -5],\n",
       "[ 0, -5, 0,   1,   40, 0,   20],\n",
       "[ 0,  0, 0,   0,    1, 0,    0],\n",
       "[-9, 50, 0, -10, -193, 1, -200],\n",
       "[ 0,  0, 0,   0,    0, 0,    1]])"
      ]
     },
     "execution_count": 34,
     "metadata": {},
     "output_type": "execute_result"
    }
   ],
   "source": [
    "C.inv()"
   ]
  },
  {
   "cell_type": "markdown",
   "metadata": {},
   "source": [
    "V為A經R^6--->R^7的線性"
   ]
  },
  {
   "cell_type": "code",
   "execution_count": 35,
   "metadata": {},
   "outputs": [],
   "source": [
    "V=C.inv()*A*B"
   ]
  },
  {
   "cell_type": "code",
   "execution_count": 36,
   "metadata": {},
   "outputs": [
    {
     "data": {
      "text/latex": [
       "$\\displaystyle \\left[\\begin{matrix}-91 & -3489 & -1972 & -157 & -945 & -201\\\\-58 & -1494 & -856 & -61 & -408 & -87\\\\-46 & -544 & -342 & -19 & -181 & -31\\\\293 & 7607 & 4356 & 311 & 2075 & 443\\\\4 & 156 & 88 & 7 & 42 & 9\\\\-2105 & -44610 & -25781 & -1688 & -12198 & -2619\\\\8 & 70 & 46 & 2 & 25 & 4\\end{matrix}\\right]$"
      ],
      "text/plain": [
       "Matrix([\n",
       "[  -91,  -3489,  -1972,  -157,   -945,  -201],\n",
       "[  -58,  -1494,   -856,   -61,   -408,   -87],\n",
       "[  -46,   -544,   -342,   -19,   -181,   -31],\n",
       "[  293,   7607,   4356,   311,   2075,   443],\n",
       "[    4,    156,     88,     7,     42,     9],\n",
       "[-2105, -44610, -25781, -1688, -12198, -2619],\n",
       "[    8,     70,     46,     2,     25,     4]])"
      ]
     },
     "execution_count": 36,
     "metadata": {},
     "output_type": "execute_result"
    }
   ],
   "source": [
    "V"
   ]
  }
 ],
 "metadata": {
  "kernelspec": {
   "display_name": "Python 3",
   "language": "python",
   "name": "python3"
  },
  "language_info": {
   "codemirror_mode": {
    "name": "ipython",
    "version": 3
   },
   "file_extension": ".py",
   "mimetype": "text/x-python",
   "name": "python",
   "nbconvert_exporter": "python",
   "pygments_lexer": "ipython3",
   "version": "3.7.4"
  }
 },
 "nbformat": 4,
 "nbformat_minor": 2
}
