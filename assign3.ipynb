{
 "cells": [
  {
   "cell_type": "code",
   "execution_count": 14,
   "metadata": {},
   "outputs": [],
   "source": [
    "%matplotlib inline\n",
    "import numpy as np\n",
    "import matplotlib.pyplot as plt\n",
    "import sympy as sp"
   ]
  },
  {
   "cell_type": "code",
   "execution_count": 15,
   "metadata": {},
   "outputs": [],
   "source": [
    "from sympy import S"
   ]
  },
  {
   "cell_type": "code",
   "execution_count": 16,
   "metadata": {},
   "outputs": [],
   "source": [
    "A=sp.Matrix([[S(1209)/53,S(-806)/53,S(634)/53,S(422)/53,S(151)/53],\n",
    "            [S(24)/121,S(-16)/121,S(13)/121,S(6)/121,S(6)/121],\n",
    "            [S(264)/31,S(-176)/31,S(138)/31,3,S(33)/31],\n",
    "            [-120,80,-63,-42,-15]])"
   ]
  },
  {
   "cell_type": "code",
   "execution_count": 17,
   "metadata": {},
   "outputs": [
    {
     "data": {
      "text/latex": [
       "$\\displaystyle \\left[\\begin{matrix}\\frac{1209}{53} & - \\frac{806}{53} & \\frac{634}{53} & \\frac{422}{53} & \\frac{151}{53}\\\\\\frac{24}{121} & - \\frac{16}{121} & \\frac{13}{121} & \\frac{6}{121} & \\frac{6}{121}\\\\\\frac{264}{31} & - \\frac{176}{31} & \\frac{138}{31} & 3 & \\frac{33}{31}\\\\-120 & 80 & -63 & -42 & -15\\end{matrix}\\right]$"
      ],
      "text/plain": [
       "Matrix([\n",
       "[1209/53, -806/53, 634/53, 422/53, 151/53],\n",
       "[ 24/121, -16/121, 13/121,  6/121,  6/121],\n",
       "[ 264/31, -176/31, 138/31,      3,  33/31],\n",
       "[   -120,      80,    -63,    -42,    -15]])"
      ]
     },
     "execution_count": 17,
     "metadata": {},
     "output_type": "execute_result"
    }
   ],
   "source": [
    "A"
   ]
  },
  {
   "cell_type": "code",
   "execution_count": 18,
   "metadata": {},
   "outputs": [
    {
     "data": {
      "text/plain": [
       "(Matrix([\n",
       " [1, -2/3, 0, 0, 0],\n",
       " [0,    0, 1, 0, 0],\n",
       " [0,    0, 0, 1, 0],\n",
       " [0,    0, 0, 0, 1]]), (0, 2, 3, 4))"
      ]
     },
     "execution_count": 18,
     "metadata": {},
     "output_type": "execute_result"
    }
   ],
   "source": [
    "A.rref()"
   ]
  }
 ],
 "metadata": {
  "kernelspec": {
   "display_name": "Python 3",
   "language": "python",
   "name": "python3"
  },
  "language_info": {
   "codemirror_mode": {
    "name": "ipython",
    "version": 3
   },
   "file_extension": ".py",
   "mimetype": "text/x-python",
   "name": "python",
   "nbconvert_exporter": "python",
   "pygments_lexer": "ipython3",
   "version": "3.8.3"
  }
 },
 "nbformat": 4,
 "nbformat_minor": 2
}
