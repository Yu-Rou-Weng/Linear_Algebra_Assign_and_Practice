{
 "cells": [
  {
   "cell_type": "code",
   "execution_count": 1,
   "metadata": {},
   "outputs": [],
   "source": [
    "%matplotlib inline\n",
    "import numpy as np\n",
    "import matplotlib.pyplot as plt\n",
    "import sympy as sp"
   ]
  },
  {
   "cell_type": "code",
   "execution_count": 5,
   "metadata": {},
   "outputs": [],
   "source": [
    "A=sp.Matrix([[4,2,-2,7,-2,1],\n",
    "            [2,4,2,-7,4,1],\n",
    "            [2,0,-2,7,1,4],\n",
    "            [-3,-5,-2,7,3,6],\n",
    "            [2,0,2,-7,-4,-7]])"
   ]
  },
  {
   "cell_type": "code",
   "execution_count": 3,
   "metadata": {},
   "outputs": [
    {
     "data": {
      "text/latex": [
       "$\\displaystyle \\left[\\begin{matrix}4 & 2 & -2 & 7 & -2 & 1\\\\2 & 4 & 2 & -7 & 4 & 1\\\\2 & 0 & -2 & 7 & 1 & 4\\\\-3 & -5 & -2 & 7 & 3 & 6\\\\2 & 0 & 2 & -7 & -4 & -7\\end{matrix}\\right]$"
      ],
      "text/plain": [
       "Matrix([\n",
       "[ 4,  2, -2,  7, -2,  1],\n",
       "[ 2,  4,  2, -7,  4,  1],\n",
       "[ 2,  0, -2,  7,  1,  4],\n",
       "[-3, -5, -2,  7,  3,  6],\n",
       "[ 2,  0,  2, -7, -4, -7]])"
      ]
     },
     "execution_count": 3,
     "metadata": {},
     "output_type": "execute_result"
    }
   ],
   "source": [
    "A"
   ]
  },
  {
   "cell_type": "code",
   "execution_count": 4,
   "metadata": {},
   "outputs": [
    {
     "data": {
      "text/plain": [
       "(Matrix([\n",
       " [1, 0, 0,    0, 0,    0],\n",
       " [0, 1, 0,    0, 0,    0],\n",
       " [0, 0, 1, -7/2, 0, -3/2],\n",
       " [0, 0, 0,    0, 1,    1],\n",
       " [0, 0, 0,    0, 0,    0]]), (0, 1, 2, 4))"
      ]
     },
     "execution_count": 4,
     "metadata": {},
     "output_type": "execute_result"
    }
   ],
   "source": [
    "A.rref()"
   ]
  }
 ],
 "metadata": {
  "kernelspec": {
   "display_name": "Python 3",
   "language": "python",
   "name": "python3"
  },
  "language_info": {
   "codemirror_mode": {
    "name": "ipython",
    "version": 3
   },
   "file_extension": ".py",
   "mimetype": "text/x-python",
   "name": "python",
   "nbconvert_exporter": "python",
   "pygments_lexer": "ipython3",
   "version": "3.7.4"
  }
 },
 "nbformat": 4,
 "nbformat_minor": 2
}
