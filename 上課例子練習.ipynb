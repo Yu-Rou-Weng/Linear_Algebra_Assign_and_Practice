{
 "cells": [
  {
   "cell_type": "code",
   "execution_count": 1,
   "metadata": {},
   "outputs": [],
   "source": [
    "%matplotlib inline \n",
    "import numpy as np\n",
    "import matplotlib.pyplot as plt\n",
    "import sympy as sp"
   ]
  },
  {
   "cell_type": "code",
   "execution_count": 7,
   "metadata": {},
   "outputs": [],
   "source": [
    "from sympy.abc import a,x"
   ]
  },
  {
   "cell_type": "code",
   "execution_count": 10,
   "metadata": {},
   "outputs": [],
   "source": [
    "A=sp.Matrix([[-2,4,-2,-1,4,-3],\n",
    "            [4,-8,3,-3,1,2],\n",
    "            [1,-2,1,-1,1,0],\n",
    "            [1,-2,-3,0,4,a]])"
   ]
  },
  {
   "cell_type": "code",
   "execution_count": 11,
   "metadata": {},
   "outputs": [
    {
     "data": {
      "text/latex": [
       "$\\displaystyle \\left[\\begin{matrix}-2 & 4 & -2 & -1 & 4 & -3\\\\4 & -8 & 3 & -3 & 1 & 2\\\\1 & -2 & 1 & -1 & 1 & 0\\\\1 & -2 & -3 & 0 & 4 & a\\end{matrix}\\right]$"
      ],
      "text/plain": [
       "Matrix([\n",
       "[-2,  4, -2, -1, 4, -3],\n",
       "[ 4, -8,  3, -3, 1,  2],\n",
       "[ 1, -2,  1, -1, 1,  0],\n",
       "[ 1, -2, -3,  0, 4,  a]])"
      ]
     },
     "execution_count": 11,
     "metadata": {},
     "output_type": "execute_result"
    }
   ],
   "source": [
    "A"
   ]
  },
  {
   "cell_type": "code",
   "execution_count": 13,
   "metadata": {},
   "outputs": [
    {
     "data": {
      "text/plain": [
       "(Matrix([\n",
       " [1, -2, 0, 0, 0, 2*a/9 + 8/9],\n",
       " [0,  0, 1, 0, 0,  -a/9 - 4/9],\n",
       " [0,  0, 0, 1, 0, 2*a/9 - 1/9],\n",
       " [0,  0, 0, 0, 1,   a/9 - 5/9]]), (0, 2, 3, 4))"
      ]
     },
     "execution_count": 13,
     "metadata": {},
     "output_type": "execute_result"
    }
   ],
   "source": [
    "A.rref()"
   ]
  }
 ],
 "metadata": {
  "kernelspec": {
   "display_name": "Python 3",
   "language": "python",
   "name": "python3"
  },
  "language_info": {
   "codemirror_mode": {
    "name": "ipython",
    "version": 3
   },
   "file_extension": ".py",
   "mimetype": "text/x-python",
   "name": "python",
   "nbconvert_exporter": "python",
   "pygments_lexer": "ipython3",
   "version": "3.7.4"
  }
 },
 "nbformat": 4,
 "nbformat_minor": 2
}
